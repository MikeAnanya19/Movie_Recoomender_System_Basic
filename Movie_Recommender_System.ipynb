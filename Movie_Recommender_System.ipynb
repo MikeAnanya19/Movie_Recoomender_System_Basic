{
 "cells": [
  {
   "cell_type": "code",
   "execution_count": 33,
   "id": "5b4bbfcc",
   "metadata": {},
   "outputs": [
    {
     "name": "stdout",
     "output_type": "stream",
     "text": [
      "IMDB suggested: The Dark Knight\n",
      "Upvotes suggested: The Prestige\n"
     ]
    }
   ],
   "source": [
    "import numpy as np\n",
    "import pandas as pd\n",
    "\n",
    "data = {\n",
    "    'movie_names': [\n",
    "        'The Dark Knight',\n",
    "        'The Machinist',\n",
    "        'American Psycho',\n",
    "        'The Prestige',\n",
    "        'The Fighter'\n",
    "    ],\n",
    "    'imdb_ratings': [9.0, 7.8, 7.6, 8.5, 7.8],\n",
    "    'upvotes': [3000, 5000, 4000, 10000, 2000]\n",
    "}\n",
    "\n",
    "df = pd.DataFrame(data)\n",
    "features = df[['imdb_ratings', 'upvotes']].values\n",
    "\n",
    "def selector(features):\n",
    "    imdb = features[:, 0]\n",
    "    upvotes = features[:, 1]\n",
    "    max_imdb = np.max(imdb)\n",
    "    max_upvotes = np.max(upvotes)\n",
    "    max_data = [max_imdb, max_upvotes]\n",
    "    return max_data\n",
    "\n",
    "def recommender(features):\n",
    "    rec_imdb = \"\"\n",
    "    rec_upvotes = \"\"\n",
    "    max_imdb, max_upvotes = selector(features)\n",
    "    for i, row in enumerate(features):\n",
    "        if row[0] == max_imdb:\n",
    "            rec_imdb = data['movie_names'][i]\n",
    "        if row[1] == max_upvotes:\n",
    "            rec_upvotes = data['movie_names'][i]\n",
    "    return rec_imdb, rec_upvotes\n",
    "\n",
    "rec_imdb, rec_upvotes = recommender(features)\n",
    "print('IMDB suggested:', rec_imdb)\n",
    "print('Upvotes suggested:', rec_upvotes)\n"
   ]
  },
  {
   "cell_type": "code",
   "execution_count": null,
   "id": "9508e12e",
   "metadata": {},
   "outputs": [],
   "source": []
  }
 ],
 "metadata": {
  "kernelspec": {
   "display_name": "Python 3 (ipykernel)",
   "language": "python",
   "name": "python3"
  },
  "language_info": {
   "codemirror_mode": {
    "name": "ipython",
    "version": 3
   },
   "file_extension": ".py",
   "mimetype": "text/x-python",
   "name": "python",
   "nbconvert_exporter": "python",
   "pygments_lexer": "ipython3",
   "version": "3.11.4"
  }
 },
 "nbformat": 4,
 "nbformat_minor": 5
}
